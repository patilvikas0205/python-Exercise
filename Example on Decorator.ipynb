{
 "cells": [
  {
   "cell_type": "markdown",
   "metadata": {},
   "source": [
    "### Example on decorator "
   ]
  },
  {
   "cell_type": "code",
   "execution_count": 20,
   "metadata": {},
   "outputs": [],
   "source": [
    "def sub(x,y):\n",
    "    return x-y\n",
    "\n",
    "        "
   ]
  },
  {
   "cell_type": "code",
   "execution_count": 10,
   "metadata": {},
   "outputs": [
    {
     "data": {
      "text/plain": [
       "-2"
      ]
     },
     "execution_count": 10,
     "metadata": {},
     "output_type": "execute_result"
    }
   ],
   "source": [
    "sub(2,4)"
   ]
  },
  {
   "cell_type": "code",
   "execution_count": 24,
   "metadata": {},
   "outputs": [
    {
     "name": "stdout",
     "output_type": "stream",
     "text": [
      "2\n"
     ]
    }
   ],
   "source": [
    "def sub(x,y):\n",
    "    return x-y\n",
    "\n",
    "        \n",
    "def decorator(func):\n",
    "    def inner(x,y):\n",
    "        x,y=y,x\n",
    "        return func(x,y)\n",
    "    return inner\n",
    "    \n",
    "    \n",
    "sub=decorator(sub)\n",
    "result=sub(2,4)\n",
    "print(result)"
   ]
  },
  {
   "cell_type": "code",
   "execution_count": 23,
   "metadata": {},
   "outputs": [
    {
     "name": "stdout",
     "output_type": "stream",
     "text": [
      "7\n"
     ]
    }
   ],
   "source": [
    "def add(x,y):\n",
    "    return x+y\n",
    "\n",
    "def decorator(func):\n",
    "\n",
    "    def inner(x,y):\n",
    "\n",
    "        return func(x,y+2)\n",
    "\n",
    "    return inner\n",
    "\n",
    "add=decorator(add)\n",
    "res=add(2,3)\n",
    "print(res)"
   ]
  },
  {
   "cell_type": "code",
   "execution_count": 41,
   "metadata": {},
   "outputs": [
    {
     "name": "stdout",
     "output_type": "stream",
     "text": [
      "2\n"
     ]
    }
   ],
   "source": [
    "def sub(x,y):\n",
    "    return x-y\n",
    "\n",
    "        \n",
    "def decorator(func):\n",
    "    def inner(x,y):\n",
    "        if(x<y):\n",
    "            x,y=y,x\n",
    "        return func(x,y)\n",
    "    return inner\n",
    "    \n",
    "    \n",
    "sub=decorator(sub)\n",
    "result=sub(2,4)\n",
    "print(result)"
   ]
  },
  {
   "cell_type": "code",
   "execution_count": 53,
   "metadata": {},
   "outputs": [
    {
     "name": "stdout",
     "output_type": "stream",
     "text": [
      "0.5\n"
     ]
    }
   ],
   "source": [
    "def div(x,y):\n",
    "    return x/y\n",
    "\n",
    "def decorator(func):\n",
    "    def inner(x,y):\n",
    "        if (y==0):\n",
    "            print(\"Cant divide with 0\")\n",
    "            \n",
    "        else:\n",
    "            return func(x,y)\n",
    "            \n",
    "    return inner\n",
    "\n",
    "\n",
    "div=decorator(div)\n",
    "res=div(1,2)\n",
    "print(res)"
   ]
  },
  {
   "cell_type": "code",
   "execution_count": 56,
   "metadata": {},
   "outputs": [
    {
     "name": "stdout",
     "output_type": "stream",
     "text": [
      "2.5\n"
     ]
    }
   ],
   "source": [
    "def div(x,y):\n",
    "    return x/y\n",
    "\n",
    "def decorator(func):\n",
    "    def inner(x,y):\n",
    "        if (y==0):\n",
    "            print(\"Cant divide with 0\")\n",
    "            \n",
    "        else:\n",
    "            return func(x,y)\n",
    "            \n",
    "    return inner\n",
    "\n",
    "def decorator1(func):\n",
    "    def inner(x,y):\n",
    "        if(x<y):\n",
    "            x,y=y,x\n",
    "        return func(x,y)\n",
    "    return inner        \n",
    "div=decorator1(decorator(div))\n",
    "res=div(2,5)\n",
    "print(res)"
   ]
  }
 ],
 "metadata": {
  "kernelspec": {
   "display_name": "Python 3",
   "language": "python",
   "name": "python3"
  },
  "language_info": {
   "codemirror_mode": {
    "name": "ipython",
    "version": 3
   },
   "file_extension": ".py",
   "mimetype": "text/x-python",
   "name": "python",
   "nbconvert_exporter": "python",
   "pygments_lexer": "ipython3",
   "version": "3.7.4"
  }
 },
 "nbformat": 4,
 "nbformat_minor": 2
}
